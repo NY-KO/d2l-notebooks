{
  "nbformat": 4,
  "nbformat_minor": 0,
  "metadata": {
    "colab": {
      "provenance": [],
      "authorship_tag": "ABX9TyOwtqb2VJKJIqy0pSlsszog",
      "include_colab_link": true
    },
    "kernelspec": {
      "name": "python3",
      "display_name": "Python 3"
    },
    "language_info": {
      "name": "python"
    }
  },
  "cells": [
    {
      "cell_type": "markdown",
      "metadata": {
        "id": "view-in-github",
        "colab_type": "text"
      },
      "source": [
        "<a href=\"https://colab.research.google.com/github/NY-KO/d2l-notebooks/blob/main/%E5%8A%A8%E6%89%8B%E6%B7%B1%E5%BA%A6%E5%AD%A6%E4%B9%A0.ipynb\" target=\"_parent\"><img src=\"https://colab.research.google.com/assets/colab-badge.svg\" alt=\"Open In Colab\"/></a>"
      ]
    },
    {
      "cell_type": "markdown",
      "source": [
        "#5.19 引言"
      ],
      "metadata": {
        "id": "t_hJWGXfyzVx"
      }
    },
    {
      "cell_type": "markdown",
      "source": [
        "训练过程通常包含如下步骤：\n",
        "1. 从一个随机初始化参数的模型开始，这个模型基本没有“智能”；\n",
        "2. 获取一些数据样本（例如，音频片段以及对应的是或否标签）；\n",
        "3. 调整参数，使模型在这些样本中表现得更好；\n",
        "4. 重复第（2）步和第（3）步，直到模型在任务中的表现令人满意。"
      ],
      "metadata": {
        "id": "r1gehgrzzA15"
      }
    },
    {
      "cell_type": "markdown",
      "source": [
        "#5.19 预备知识"
      ],
      "metadata": {
        "id": "IHWxSmK_1c-3"
      }
    },
    {
      "cell_type": "markdown",
      "source": [
        "##2.1.1入门"
      ],
      "metadata": {
        "id": "QpxJ6U6H1mLs"
      }
    },
    {
      "cell_type": "markdown",
      "source": [
        "张量表示一个由数值组成的数组，这个数组可能有多个维度。具有一个轴的张量对应数学上的向量（vector）；\n",
        "具有两个轴的张量对应数学上的矩阵（matrix）；具有两个轴以上的张量没有特殊的数学名称。"
      ],
      "metadata": {
        "id": "PRVYHWQy1yGh"
      }
    },
    {
      "cell_type": "code",
      "execution_count": 1,
      "metadata": {
        "id": "BmTvAefdywW4"
      },
      "outputs": [],
      "source": [
        "import torch"
      ]
    },
    {
      "cell_type": "code",
      "source": [
        "x = torch.arange(12)\n",
        "x"
      ],
      "metadata": {
        "colab": {
          "base_uri": "https://localhost:8080/"
        },
        "id": "oWdoRomQ2TDu",
        "outputId": "e7135a97-67d4-4264-c1bb-d5d249e9f2e2"
      },
      "execution_count": 2,
      "outputs": [
        {
          "output_type": "execute_result",
          "data": {
            "text/plain": [
              "tensor([ 0,  1,  2,  3,  4,  5,  6,  7,  8,  9, 10, 11])"
            ]
          },
          "metadata": {},
          "execution_count": 2
        }
      ]
    },
    {
      "cell_type": "code",
      "source": [
        "x.shape"
      ],
      "metadata": {
        "colab": {
          "base_uri": "https://localhost:8080/"
        },
        "id": "NVqTEmbT2lSd",
        "outputId": "f3508596-b401-443f-9752-046942bc2f77"
      },
      "execution_count": 3,
      "outputs": [
        {
          "output_type": "execute_result",
          "data": {
            "text/plain": [
              "torch.Size([12])"
            ]
          },
          "metadata": {},
          "execution_count": 3
        }
      ]
    },
    {
      "cell_type": "code",
      "source": [
        "x.numel()"
      ],
      "metadata": {
        "colab": {
          "base_uri": "https://localhost:8080/"
        },
        "id": "U4G34MLv21dq",
        "outputId": "4c0aa30c-3c56-4ab1-8485-8d6210959a63"
      },
      "execution_count": 5,
      "outputs": [
        {
          "output_type": "execute_result",
          "data": {
            "text/plain": [
              "12"
            ]
          },
          "metadata": {},
          "execution_count": 5
        }
      ]
    },
    {
      "cell_type": "code",
      "source": [
        "#把张量x从形状为（12,）的行向量转换为形状为（3,4）的矩阵\n",
        "X = x.reshape(3, 4)\n",
        "X"
      ],
      "metadata": {
        "colab": {
          "base_uri": "https://localhost:8080/"
        },
        "id": "ABsCEEtd3JQo",
        "outputId": "4f605ed5-22f5-4233-dfbd-cc06e613e407"
      },
      "execution_count": 7,
      "outputs": [
        {
          "output_type": "execute_result",
          "data": {
            "text/plain": [
              "tensor([[ 0,  1,  2,  3],\n",
              "        [ 4,  5,  6,  7],\n",
              "        [ 8,  9, 10, 11]])"
            ]
          },
          "metadata": {},
          "execution_count": 7
        }
      ]
    },
    {
      "cell_type": "code",
      "source": [
        "#我们可以通过-1来调用此自动计算出维度的功能。即我们可以用x.reshape(-1,4)或x.reshape(3,-1)来取代x.reshape(3,4)\n",
        "X = x.reshape(3, -1)\n",
        "X"
      ],
      "metadata": {
        "colab": {
          "base_uri": "https://localhost:8080/"
        },
        "id": "uhRwvyVO3wiV",
        "outputId": "01063fd3-169f-4a30-af66-29d0be37bccf"
      },
      "execution_count": 9,
      "outputs": [
        {
          "output_type": "execute_result",
          "data": {
            "text/plain": [
              "tensor([[ 0,  1,  2,  3],\n",
              "        [ 4,  5,  6,  7],\n",
              "        [ 8,  9, 10, 11]])"
            ]
          },
          "metadata": {},
          "execution_count": 9
        }
      ]
    },
    {
      "cell_type": "markdown",
      "source": [],
      "metadata": {
        "id": "_hzoQxFiyxNm"
      }
    }
  ]
}